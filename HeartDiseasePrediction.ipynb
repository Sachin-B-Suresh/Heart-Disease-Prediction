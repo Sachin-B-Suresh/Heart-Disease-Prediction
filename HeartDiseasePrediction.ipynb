{
 "cells": [
  {
   "cell_type": "code",
   "execution_count": 1,
   "metadata": {},
   "outputs": [
    {
     "name": "stdout",
     "output_type": "stream",
     "text": [
      "Model Accuracy :  0.6486486486486487\n",
      "Enter Blood pressure:152\n",
      "Enter cholestrol:5.7\n",
      "Family history 1- Yes, 0-No:1\n",
      "Enter BMI:27\n",
      "Enter Age:33\n",
      "Negative: Does not have a heart disease\n",
      "**Blood Pressure of people with heart disease**\n",
      "Mean BP: 143.7375\n",
      "Median BP: 138.0\n",
      "**Blood Pressure of people no with heart disease**\n",
      "Mean: 135.46026490066225\n",
      "Median: 132.0\n"
     ]
    },
    {
     "data": {
      "text/plain": [
       "<Figure size 640x480 with 2 Axes>"
      ]
     },
     "metadata": {},
     "output_type": "display_data"
    },
    {
     "name": "stdout",
     "output_type": "stream",
     "text": [
      "**Ages of people with heart disease**\n",
      "Mean BP: 50.29375\n",
      "Median BP: 53.0\n",
      "**Ages of people no with heart disease**\n",
      "Mean: 38.854304635761586\n",
      "Median: 40.0\n"
     ]
    },
    {
     "data": {
      "text/plain": [
       "<Figure size 640x480 with 2 Axes>"
      ]
     },
     "metadata": {},
     "output_type": "display_data"
    },
    {
     "name": "stdout",
     "output_type": "stream",
     "text": [
      "**Cholestrol levels of people with heart disease**\n",
      "Mean: 5.4879375\n",
      "Median: 5.0649999999999995\n",
      "**Cholestrol levels of people with no heart disease**\n",
      "Mean: 4.344238410596026\n",
      "Median: 3.98\n"
     ]
    },
    {
     "data": {
      "text/plain": [
       "<Figure size 640x480 with 2 Axes>"
      ]
     },
     "metadata": {},
     "output_type": "display_data"
    },
    {
     "name": "stdout",
     "output_type": "stream",
     "text": [
      "**BMI of people with heart disease**\n",
      "Mean: 26.6229375\n",
      "Median: 26.475\n",
      "**BMI of people with no heart disease**\n",
      "Mean: 25.737450331125828\n",
      "Median: 25.57\n"
     ]
    },
    {
     "data": {
      "text/plain": [
       "<Figure size 640x480 with 2 Axes>"
      ]
     },
     "metadata": {},
     "output_type": "display_data"
    }
   ],
   "source": [
    "\n",
    "# coding: utf-8\n",
    "\n",
    "# In[160]:\n",
    "\n",
    "\n",
    "import pandas as pd\n",
    "import numpy as np\n",
    "from statistics import mean,median,mode\n",
    "from sklearn.linear_model import LogisticRegression\n",
    "from sklearn.tree import DecisionTreeClassifier,export_graphviz\n",
    "from sklearn.metrics import accuracy_score\n",
    "import matplotlib.pyplot as plt\n",
    "train = pd.read_csv('HeartDisease_Training Data.csv')\n",
    "test = pd.read_csv('HeartDisease_Testing Data.csv')\n",
    "\n",
    "import cgitb\n",
    "import cgi\n",
    "#import MySQLdb\n",
    "#import Tkinter\n",
    "#import tkMessageBox\n",
    "\n",
    "#db = MySQLdb.connect(host=\"localhost\",user=\"root\",passwd=\"\",db=\"heart\")\n",
    "#cur = db.cursor()\n",
    "\n",
    "# In[161]:\n",
    "\n",
    "\n",
    "target = train['Class']\n",
    "data = train.drop(['Class'],axis=1)\n",
    "\n",
    "\n",
    "# In[162]:\n",
    "\n",
    "\n",
    "clf = DecisionTreeClassifier()\n",
    "clf = clf.fit(data,target)\n",
    "\n",
    "\n",
    "# In[163]:\n",
    "\n",
    "\n",
    "prediction = clf.predict(test.drop(['uclass'],axis = 1))\n",
    "true = [0 if i == 'Patient doesnt have a heart disease' else 1 for i in np.array(test['uclass'])]\n",
    "print(\"Model Accuracy : \",accuracy_score(true, prediction))\n",
    "\n",
    "\n",
    "# In[166]:\n",
    "\n",
    "\n",
    "bp = int(input('Enter Blood pressure:'))\n",
    "cholestrol = float(input('Enter cholestrol:'))\n",
    "fh = int(input('Family history 1- Yes, 0-No:'))\n",
    "bmi = int(input('Enter BMI:'))\n",
    "age = int(input('Enter Age:'))\n",
    "\n",
    "prediction = clf.predict(np.array([bp,cholestrol,fh,bmi,age]).reshape(1,-1))\n",
    "\"\"\"if prediction[0] == 0:\n",
    "\ttkMessageBox.showinfo(\"Prediction\", \"Negative: Does not have a heart disease\")\n",
    "else:\n",
    "\ttkMessageBox.showinfo(\"Prediction\", \"Positive: Probably Has a heart disease\")\"\"\"\n",
    "print(\"Negative: Does not have a heart disease\" if prediction[0] == 0 else \"Positive: Probably Has a heart disease\")\n",
    "\n",
    "\n",
    "\n",
    "# In[167]:\n",
    "\n",
    "\n",
    "export_graphviz(clf,out_file='tree.dot')#exports a Decision tree figure\n",
    "pos = train[train['Class'] == 1].drop(['Class'],axis = 1)#people with a heart disease\n",
    "neg = train[train['Class'] == 0].drop(['Class'],axis = 1)#people without a heart disease\n",
    "\n",
    "\n",
    "# In[183]:\n",
    "\n",
    "\n",
    "fig, axs = plt.subplots(1, 2)\n",
    "axs[0].hist(pos['Systolic Blood Pressure'],label=\"Plot of Blood Pressure of people with heart disease\")\n",
    "axs[1].hist(neg['Systolic Blood Pressure'],label=\"Plot of Blood Pressure of people no with heart disease\")\n",
    "plt.legend()\n",
    "print('**Blood Pressure of people with heart disease**')\n",
    "print('Mean BP:',mean(pos['Systolic Blood Pressure']))\n",
    "#meanbp=mean(pos['Systolic Blood Pressure'])\n",
    "print('Median BP:',median(pos['Systolic Blood Pressure']))\n",
    "#maxbp=median(pos['Systolic Blood Pressure'])\n",
    "print(\"**Blood Pressure of people no with heart disease**\")\n",
    "print('Mean:',mean(neg['Systolic Blood Pressure']))\n",
    "#meanNegbp=mean(neg['Systolic Blood Pressure'])\n",
    "print('Median:',median(neg['Systolic Blood Pressure']))\n",
    "#maxNegbp=median(neg['Systolic Blood Pressure'])\n",
    "plt.show()\n",
    "#cur.execute(\"insert into details values(%s,%s,%s,%s)\",(mean(pos['Systolic Blood Pressure']),median(pos['Systolic Blood Pressure']),mean(neg['Systolic Blood Pressure']),median(neg['Systolic Blood Pressure'])))\n",
    "\n",
    "# In[185]:\n",
    "\n",
    "\n",
    "fig, axs = plt.subplots(1, 2)\n",
    "axs[0].hist(pos['Age'],label=\"Plot of ages of people with heart disease\")\n",
    "axs[1].hist(neg['Age'],label=\"Plot of ages of people no with heart disease\")\n",
    "plt.legend()\n",
    "print('**Ages of people with heart disease**')\n",
    "print('Mean BP:',mean(pos['Age']))\n",
    "print('Median BP:',median(pos['Age']))\n",
    "print(\"**Ages of people no with heart disease**\")\n",
    "print('Mean:',mean(neg['Age']))\n",
    "print('Median:',median(neg['Age']))\n",
    "plt.show()\n",
    "\n",
    "\n",
    "# In[187]:\n",
    "\n",
    "\n",
    "fig, axs = plt.subplots(1, 2)\n",
    "axs[0].hist(pos['Cholestrol'],label=\"Plot of cholestrol levels of people with heart disease\")\n",
    "axs[1].hist(neg['Cholestrol'],label=\"Plot of cholestrol levels of people with no heart disease\")\n",
    "print(\"**Cholestrol levels of people with heart disease**\")\n",
    "print('Mean:',mean(pos['Cholestrol']))#cholestrol levels above 5.5 could be a sign of a heart disease\n",
    "print('Median:',median(pos['Cholestrol']))\n",
    "print(\"**Cholestrol levels of people with no heart disease**\")\n",
    "print('Mean:',mean(neg['Cholestrol']))\n",
    "print('Median:',median(neg['Cholestrol']))\n",
    "plt.legend()\n",
    "plt.show()\n",
    "\n",
    "\n",
    "# In[189]:\n",
    "\n",
    "\n",
    "fig, axs = plt.subplots(1, 2)\n",
    "axs[0].hist(pos['BMI'],label=\"Plot of BMI of people with heart disease\")\n",
    "axs[1].hist(neg['BMI'],label=\"Plot of BMI of people with no heart disease\")\n",
    "print(\"**BMI of people with heart disease**\")\n",
    "print('Mean:',mean(pos['BMI']))#BMI above 26.5 could be dangerous\n",
    "print('Median:',median(pos['BMI']))\n",
    "print(\"**BMI of people with no heart disease**\")\n",
    "print('Mean:',mean(neg['BMI']))\n",
    "print('Median:',median(neg['BMI']))\n",
    "plt.legend()\n",
    "plt.show()\n",
    "\n"
   ]
  },
  {
   "cell_type": "code",
   "execution_count": null,
   "metadata": {},
   "outputs": [],
   "source": []
  }
 ],
 "metadata": {
  "kernelspec": {
   "display_name": "Python 3",
   "language": "python",
   "name": "python3"
  },
  "language_info": {
   "codemirror_mode": {
    "name": "ipython",
    "version": 3
   },
   "file_extension": ".py",
   "mimetype": "text/x-python",
   "name": "python",
   "nbconvert_exporter": "python",
   "pygments_lexer": "ipython3",
   "version": "3.6.5"
  }
 },
 "nbformat": 4,
 "nbformat_minor": 2
}
